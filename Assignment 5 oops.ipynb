{
 "cells": [
  {
   "cell_type": "markdown",
   "id": "1bb51e75-c5f2-43df-af3e-70bd2b249193",
   "metadata": {},
   "source": [
    "Q1. Create a vehicle class with an init method having instance variables as name_of_vehicle, max_speed\n",
    "and average_of_vehicle.\n",
    "\n"
   ]
  },
  {
   "cell_type": "code",
   "execution_count": 1,
   "id": "abbc92d0-dd92-460d-ba3b-5675836d048f",
   "metadata": {},
   "outputs": [],
   "source": [
    "class vehicle:\n",
    "     \n",
    "        def __init__(self,name_of_vehicle, max_speed, average_of_vehicle):\n",
    "            self.name_of_vehicle=name_of_vehicle\n",
    "            self.max_speed=max_speed\n",
    "            self.average_of_vehicle=average_of_vehicle\n",
    "            \n",
    "        def car_info(self):\n",
    "            return self.name_of_vehicle,self.max_speed,self.average_of_vehicle"
   ]
  },
  {
   "cell_type": "code",
   "execution_count": 3,
   "id": "3992694f-cb50-4937-b4a4-1866359d4827",
   "metadata": {},
   "outputs": [],
   "source": [
    "obj_car=vehicle('maserati',350,12.25)"
   ]
  },
  {
   "cell_type": "code",
   "execution_count": 5,
   "id": "66f15919-fa5f-419d-acc4-eca6f0f383f6",
   "metadata": {},
   "outputs": [
    {
     "data": {
      "text/plain": [
       "('maserati', 350, 12.25)"
      ]
     },
     "execution_count": 5,
     "metadata": {},
     "output_type": "execute_result"
    }
   ],
   "source": [
    "obj_car.car_info()"
   ]
  },
  {
   "cell_type": "code",
   "execution_count": null,
   "id": "42ebadd8-0472-4f0b-bfd9-f97c7c40b3b0",
   "metadata": {},
   "outputs": [],
   "source": []
  },
  {
   "cell_type": "markdown",
   "id": "c7dddef4-a341-4633-af3f-cdea38f0b49b",
   "metadata": {},
   "source": [
    "Q2. Create a child class car from the vehicle class created in Que 1, which will inherit the vehicle class.\n",
    "Create a method named seating_capacity which takes capacity as an argument and returns the name of\n",
    "the vehicle and its seating capacity."
   ]
  },
  {
   "cell_type": "code",
   "execution_count": 37,
   "id": "f1328e50-b345-4992-9517-d178a26286a1",
   "metadata": {},
   "outputs": [
    {
     "name": "stdout",
     "output_type": "stream",
     "text": [
      "BMW M4 has a seating capacity of 5 people.\n"
     ]
    }
   ],
   "source": [
    "class vehicle:\n",
    "    def __init__(self, name_of_vehicle, max_speed, average_of_vehicle):\n",
    "        self.name_of_vehicle = name_of_vehicle\n",
    "        self.max_speed = max_speed\n",
    "        self.average_of_vehicle = average_of_vehicle\n",
    "\n",
    "class car(vehicle):\n",
    "    def __init__(self, name_of_vehicle, max_speed, average_of_vehicle):\n",
    "        super().__init__(name_of_vehicle, max_speed, average_of_vehicle)\n",
    "    \n",
    "    def seating_capacity(self, capacity):\n",
    "        return f\"{self.name_of_vehicle} has a seating capacity of {capacity} people.\"\n",
    "\n",
    "car_instance = car(\"BMW M4\", 180, 25)\n",
    "capacity_result = car_instance.seating_capacity(5)\n",
    "print(capacity_result)\n"
   ]
  },
  {
   "cell_type": "code",
   "execution_count": null,
   "id": "edb86110-fa2d-42e1-aedf-a3bb9f7de3e3",
   "metadata": {},
   "outputs": [],
   "source": []
  },
  {
   "cell_type": "markdown",
   "id": "4dbd2378-0ab5-4b7a-8fe2-bc69a7781887",
   "metadata": {},
   "source": [
    "Q3. What is multiple inheritance? Write a python code to demonstrate multiple inheritance.\n",
    "\n",
    "ANS: Multiple inheritance is a feature in object-oriented programming languages that allows a class to inherit attributes and methods from more than one parent class. In other words, a class can inherit from multiple base classes, acquiring the characteristics of all those classes."
   ]
  },
  {
   "cell_type": "code",
   "execution_count": 38,
   "id": "e4799674-1614-4e0a-8382-f5d9688d7ebc",
   "metadata": {},
   "outputs": [],
   "source": [
    "class Parent1:\n",
    "    def method1(self):\n",
    "        print(\"Method 1 from Parent1\")\n",
    "\n",
    "class Parent2:\n",
    "    def method2(self):\n",
    "        print(\"Method 2 from Parent2\")\n",
    "\n",
    "class Child(Parent1, Parent2):\n",
    "    def method3(self):\n",
    "        print(\"Method 3 from Child\")\n"
   ]
  },
  {
   "cell_type": "code",
   "execution_count": 39,
   "id": "7b5af33a-8e1d-41af-915d-03817f896f18",
   "metadata": {},
   "outputs": [],
   "source": [
    "child_instance = Child()"
   ]
  },
  {
   "cell_type": "code",
   "execution_count": 41,
   "id": "91a5fc08-3d68-46ce-af39-06a02be2a874",
   "metadata": {},
   "outputs": [
    {
     "name": "stdout",
     "output_type": "stream",
     "text": [
      "Method 1 from Parent1\n"
     ]
    }
   ],
   "source": [
    "child_instance.method1()"
   ]
  },
  {
   "cell_type": "code",
   "execution_count": 42,
   "id": "59bedd16-9673-44b5-ab10-93eaeaa4d738",
   "metadata": {},
   "outputs": [
    {
     "name": "stdout",
     "output_type": "stream",
     "text": [
      "Method 2 from Parent2\n"
     ]
    }
   ],
   "source": [
    "child_instance.method2()"
   ]
  },
  {
   "cell_type": "code",
   "execution_count": 44,
   "id": "d1f24e84-8742-4e78-aad2-378c4d696bcc",
   "metadata": {},
   "outputs": [
    {
     "name": "stdout",
     "output_type": "stream",
     "text": [
      "Method 3 from Child\n"
     ]
    }
   ],
   "source": [
    "child_instance.method3()"
   ]
  },
  {
   "cell_type": "code",
   "execution_count": null,
   "id": "bef443da-8d82-4e5d-9c66-039587a97772",
   "metadata": {},
   "outputs": [],
   "source": []
  },
  {
   "cell_type": "markdown",
   "id": "68d04e0a-e635-4a7c-a4dd-5a439da5bb6a",
   "metadata": {},
   "source": [
    "Q4. What are getter and setter in python? Create a class and create a getter and a setter method in this\n",
    "class.\n",
    "\n",
    "ANS:  In Python, getters and setters are methods used to access and modify the attributes (instance variables) of a class in a controlled manner. They are used to provide a layer of abstraction over attribute access and modification, allowing you to apply validation, computation, or other logic before getting or setting the values.\n"
   ]
  },
  {
   "cell_type": "code",
   "execution_count": 45,
   "id": "fee7cc39-25c1-4c98-9084-214061dfee54",
   "metadata": {},
   "outputs": [],
   "source": [
    "class Person:\n",
    "    def __init__(self, name, age):\n",
    "        self._name = name\n",
    "        self._age = age   \n",
    "\n",
    "    def get_name(self):\n",
    "        return self._name\n",
    "\n",
    "    def set_name(self, new_name):\n",
    "        if isinstance(new_name, str):\n",
    "            self._name = new_name\n",
    "        else:\n",
    "            print(\"Name must be a string.\")\n",
    "\n",
    "    def get_age(self):\n",
    "        return self._age\n",
    "\n",
    "    def set_age(self, new_age):\n",
    "        if isinstance(new_age, int) and new_age >= 0:\n",
    "            self._age = new_age\n",
    "        else:\n",
    "            print(\"Age must be a non-negative integer.\")"
   ]
  },
  {
   "cell_type": "code",
   "execution_count": 54,
   "id": "3994c23d-ebda-411d-be1e-fad825cfadc7",
   "metadata": {},
   "outputs": [],
   "source": [
    "person_instance = Person(\"Jarvis\", 45)"
   ]
  },
  {
   "cell_type": "code",
   "execution_count": 55,
   "id": "f0828136-f743-4f1e-90a0-ccb4a05be9b9",
   "metadata": {},
   "outputs": [
    {
     "name": "stdout",
     "output_type": "stream",
     "text": [
      "Initial name: Jarvis\n",
      "Initial age: 45\n"
     ]
    }
   ],
   "source": [
    "print(\"Initial name:\", person_instance.get_name())\n",
    "print(\"Initial age:\", person_instance.get_age())\n"
   ]
  },
  {
   "cell_type": "code",
   "execution_count": 56,
   "id": "a1eeeb2c-4fa0-4f56-a41c-3cb0cb46d5b4",
   "metadata": {},
   "outputs": [],
   "source": [
    "person_instance.set_name(\"Veronica\")\n",
    "person_instance.set_age(25)"
   ]
  },
  {
   "cell_type": "code",
   "execution_count": 57,
   "id": "ba33f5f8-c992-4a38-8459-78a4830f13a1",
   "metadata": {},
   "outputs": [
    {
     "name": "stdout",
     "output_type": "stream",
     "text": [
      "Updated name: Veronica\n",
      "Updated age: 25\n"
     ]
    }
   ],
   "source": [
    "print(\"Updated name:\", person_instance.get_name())\n",
    "print(\"Updated age:\", person_instance.get_age())\n"
   ]
  },
  {
   "cell_type": "code",
   "execution_count": null,
   "id": "e5083174-f97a-4464-8672-9af3935a3a1a",
   "metadata": {},
   "outputs": [],
   "source": []
  },
  {
   "cell_type": "markdown",
   "id": "1850a3a7-be6d-41f9-9720-e16a583cb96b",
   "metadata": {},
   "source": [
    "Q5.What is method overriding in python? Write a python code to demonstrate method overriding.\n",
    "\n",
    "ANS:  Method overriding in Python occurs when a subclass provides a specific implementation for a method that is already defined in its parent class. This allows the subclass to customize or extend the behavior of the inherited method without changing its name or parameters."
   ]
  },
  {
   "cell_type": "code",
   "execution_count": 59,
   "id": "feaf5fb3-f635-4682-b31f-38c2f31a6a44",
   "metadata": {},
   "outputs": [],
   "source": [
    "class Parent:\n",
    "    def show(self):\n",
    "        print(\"This is the Parent class\")\n",
    "\n",
    "class Child(Parent):\n",
    "    def show(self):\n",
    "        print(\"This is the Child class\")"
   ]
  },
  {
   "cell_type": "code",
   "execution_count": 60,
   "id": "21a3d1ac-aa97-4b6b-8c03-6f4c1a74e3e1",
   "metadata": {},
   "outputs": [],
   "source": [
    "parent_instance = Parent()\n",
    "child_instance = Child()"
   ]
  },
  {
   "cell_type": "code",
   "execution_count": 62,
   "id": "311632cb-80fe-456f-ba6e-de6456413d28",
   "metadata": {},
   "outputs": [
    {
     "name": "stdout",
     "output_type": "stream",
     "text": [
      "This is the Parent class\n",
      "This is the Child class\n"
     ]
    }
   ],
   "source": [
    "parent_instance.show()\n",
    "child_instance.show()"
   ]
  },
  {
   "cell_type": "code",
   "execution_count": null,
   "id": "4ff6258a-0d1a-48e0-a074-04350637ce6d",
   "metadata": {},
   "outputs": [],
   "source": []
  }
 ],
 "metadata": {
  "kernelspec": {
   "display_name": "Python 3 (ipykernel)",
   "language": "python",
   "name": "python3"
  },
  "language_info": {
   "codemirror_mode": {
    "name": "ipython",
    "version": 3
   },
   "file_extension": ".py",
   "mimetype": "text/x-python",
   "name": "python",
   "nbconvert_exporter": "python",
   "pygments_lexer": "ipython3",
   "version": "3.10.8"
  }
 },
 "nbformat": 4,
 "nbformat_minor": 5
}
